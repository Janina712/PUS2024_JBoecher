{
  "nbformat": 4,
  "nbformat_minor": 0,
  "metadata": {
    "colab": {
      "provenance": [],
      "gpuType": "T4",
      "authorship_tag": "ABX9TyMhGgJiTR8KKmRpotM0GxMm",
      "include_colab_link": true
    },
    "kernelspec": {
      "name": "python3",
      "display_name": "Python 3"
    },
    "language_info": {
      "name": "python"
    },
    "accelerator": "GPU"
  },
  "cells": [
    {
      "cell_type": "markdown",
      "metadata": {
        "id": "view-in-github",
        "colab_type": "text"
      },
      "source": [
        "<a href=\"https://colab.research.google.com/github/Janina712/PUS2024_JBoecher/blob/main/Transformers_class_demo.ipynb\" target=\"_parent\"><img src=\"https://colab.research.google.com/assets/colab-badge.svg\" alt=\"Open In Colab\"/></a>"
      ]
    },
    {
      "cell_type": "code",
      "execution_count": 1,
      "metadata": {
        "id": "c0pFwSi4XewC"
      },
      "outputs": [],
      "source": [
        "# tranformer: type of neural network with multi-headed attention layer"
      ]
    },
    {
      "cell_type": "code",
      "source": [
        "import numpy as np\n",
        "import keras\n",
        "from keras import layers"
      ],
      "metadata": {
        "id": "lbnNq98gZSxe"
      },
      "execution_count": 2,
      "outputs": []
    },
    {
      "cell_type": "code",
      "source": [
        "def readucr(filename):\n",
        "    data = np.loadtxt(filename, delimiter=\"\\t\")\n",
        "    y = data[:, 0]\n",
        "    x = data[:, 1:]\n",
        "    return x, y.astype(int)\n",
        "\n",
        "\n",
        "root_url = \"https://raw.githubusercontent.com/hfawaz/cd-diagram/master/FordA/\"\n",
        "\n",
        "x_train, y_train = readucr(root_url + \"FordA_TRAIN.tsv\")\n",
        "x_test, y_test = readucr(root_url + \"FordA_TEST.tsv\")"
      ],
      "metadata": {
        "id": "lO5nXOJRZSnP"
      },
      "execution_count": 3,
      "outputs": []
    },
    {
      "cell_type": "code",
      "source": [
        "x_train.shape"
      ],
      "metadata": {
        "colab": {
          "base_uri": "https://localhost:8080/"
        },
        "id": "xuVw85znZ0xi",
        "outputId": "9c0b442c-0ec2-4e93-8ce9-3f0e95ef29e4"
      },
      "execution_count": 4,
      "outputs": [
        {
          "output_type": "execute_result",
          "data": {
            "text/plain": [
              "(3601, 500)"
            ]
          },
          "metadata": {},
          "execution_count": 4
        }
      ]
    },
    {
      "cell_type": "code",
      "source": [
        "y_train.shape"
      ],
      "metadata": {
        "colab": {
          "base_uri": "https://localhost:8080/"
        },
        "id": "B9zzyQMvZ5_7",
        "outputId": "ffad611d-1939-4b60-f6fb-b954d3cb87fa"
      },
      "execution_count": 5,
      "outputs": [
        {
          "output_type": "execute_result",
          "data": {
            "text/plain": [
              "(3601,)"
            ]
          },
          "metadata": {},
          "execution_count": 5
        }
      ]
    },
    {
      "cell_type": "code",
      "source": [
        "np.unique(y_train)"
      ],
      "metadata": {
        "colab": {
          "base_uri": "https://localhost:8080/"
        },
        "id": "T1Go-y4GZ53F",
        "outputId": "a319eb1a-4f5e-4d6f-8393-b2ed1ca127ab"
      },
      "execution_count": 6,
      "outputs": [
        {
          "output_type": "execute_result",
          "data": {
            "text/plain": [
              "array([-1,  1])"
            ]
          },
          "metadata": {},
          "execution_count": 6
        }
      ]
    },
    {
      "cell_type": "code",
      "source": [
        "# reshape\n",
        "x_train = x_train.reshape((x_train.shape[0], x_train.shape[1], 1))\n",
        "x_test = x_test.reshape((x_test.shape[0], x_test.shape[1], 1))"
      ],
      "metadata": {
        "id": "rVl8Ca6FZ5s4"
      },
      "execution_count": 7,
      "outputs": []
    },
    {
      "cell_type": "code",
      "source": [
        "x_train.shape, x_test.shape"
      ],
      "metadata": {
        "colab": {
          "base_uri": "https://localhost:8080/"
        },
        "id": "PmRwoY9Aard5",
        "outputId": "44b93c7a-4cbb-460d-b43a-ef5cbf25536d"
      },
      "execution_count": 8,
      "outputs": [
        {
          "output_type": "execute_result",
          "data": {
            "text/plain": [
              "((3601, 500, 1), (1320, 500, 1))"
            ]
          },
          "metadata": {},
          "execution_count": 8
        }
      ]
    },
    {
      "cell_type": "code",
      "source": [
        "n_classes = len(np.unique(y_train))\n",
        "n_classes"
      ],
      "metadata": {
        "colab": {
          "base_uri": "https://localhost:8080/"
        },
        "id": "IMXQ0Plka1k-",
        "outputId": "dfe87937-dc3e-4b64-f74e-a2668b0f5dac"
      },
      "execution_count": 9,
      "outputs": [
        {
          "output_type": "execute_result",
          "data": {
            "text/plain": [
              "2"
            ]
          },
          "metadata": {},
          "execution_count": 9
        }
      ]
    },
    {
      "cell_type": "code",
      "source": [
        "# shuffle data\n",
        "idx = np.random.permutation(x_train.shape[0])\n",
        "x_train = x_train[idx]\n",
        "y_train = y_train[idx]"
      ],
      "metadata": {
        "id": "BSmTUmUEa9OD"
      },
      "execution_count": 10,
      "outputs": []
    },
    {
      "cell_type": "code",
      "source": [
        "y_train[y_train == -1] = 0\n",
        "y_test[y_test == -1] = 0"
      ],
      "metadata": {
        "id": "kcbBoj5Ca_HG"
      },
      "execution_count": 11,
      "outputs": []
    },
    {
      "cell_type": "code",
      "source": [
        "def trandformer_encoder(inputs, head_size, num_heads, ff_dim, dropout=0):\n",
        "  x = layers.LayerNormalization(epsilon=1e-6)(inputs)\n",
        "  x = layers.MultiHeadAttention(key_dim=head_size, num_heads=num_heads, dropout=dropout)(x, x)\n",
        "  res = x + inputs # residual connection\n",
        "\n",
        "  x = layers.LayerNormalization(epsilon=1e-6)(res)\n",
        "  x = layers.Conv1D(filters=2000, kernel_size=1, activation=\"relu\")(x)\n",
        "  x = layers.Conv1D(filters=inputs.shape[-1], kernel_size=1)(x)\n",
        "\n",
        "  return x + res\n",
        "\n",
        "def build_model(input_shape,n_classes):\n",
        "  inputs = keras.Input(shape=input_shape)\n",
        "  x = inputs\n",
        "\n",
        "  for _ in range(2):\n",
        "    x = trandformer_encoder(x, 8, 8, 1)\n",
        "\n",
        "  x = layers.GlobalMaxPool1D(data_format = \"channels_first\")(x)\n",
        "\n",
        "  x = layers.Dense(256, activation=\"relu\")(x)\n",
        "  x = layers.Dense(50, activation=\"relu\")(x)\n",
        "\n",
        "  outputs = layers.Dense(n_classes, activation=\"softmax\")(x)\n",
        "\n",
        "  model = keras.Model(inputs=inputs, outputs=outputs)\n",
        "  return model"
      ],
      "metadata": {
        "id": "j3bv-yjOb4j7"
      },
      "execution_count": 24,
      "outputs": []
    },
    {
      "cell_type": "code",
      "source": [
        "input_shape=x_train.shape[1:]\n",
        "model = build_model(input_shape, n_classes)"
      ],
      "metadata": {
        "id": "SA0VjY87gXgO"
      },
      "execution_count": 25,
      "outputs": []
    },
    {
      "cell_type": "code",
      "source": [
        "model.summary()"
      ],
      "metadata": {
        "colab": {
          "base_uri": "https://localhost:8080/",
          "height": 967
        },
        "id": "fLoj0B9nb4HZ",
        "outputId": "d62ed268-5894-4af5-b8c8-4f08816c57f8"
      },
      "execution_count": 26,
      "outputs": [
        {
          "output_type": "display_data",
          "data": {
            "text/plain": [
              "\u001b[1mModel: \"functional_3\"\u001b[0m\n"
            ],
            "text/html": [
              "<pre style=\"white-space:pre;overflow-x:auto;line-height:normal;font-family:Menlo,'DejaVu Sans Mono',consolas,'Courier New',monospace\"><span style=\"font-weight: bold\">Model: \"functional_3\"</span>\n",
              "</pre>\n"
            ]
          },
          "metadata": {}
        },
        {
          "output_type": "display_data",
          "data": {
            "text/plain": [
              "┏━━━━━━━━━━━━━━━━━━━━━━━━━━━┳━━━━━━━━━━━━━━━━━━━━━━━━┳━━━━━━━━━━━━━━━━┳━━━━━━━━━━━━━━━━━━━━━━━━┓\n",
              "┃\u001b[1m \u001b[0m\u001b[1mLayer (type)             \u001b[0m\u001b[1m \u001b[0m┃\u001b[1m \u001b[0m\u001b[1mOutput Shape          \u001b[0m\u001b[1m \u001b[0m┃\u001b[1m \u001b[0m\u001b[1m       Param #\u001b[0m\u001b[1m \u001b[0m┃\u001b[1m \u001b[0m\u001b[1mConnected to          \u001b[0m\u001b[1m \u001b[0m┃\n",
              "┡━━━━━━━━━━━━━━━━━━━━━━━━━━━╇━━━━━━━━━━━━━━━━━━━━━━━━╇━━━━━━━━━━━━━━━━╇━━━━━━━━━━━━━━━━━━━━━━━━┩\n",
              "│ input_layer_3             │ (\u001b[38;5;45mNone\u001b[0m, \u001b[38;5;34m500\u001b[0m, \u001b[38;5;34m1\u001b[0m)         │              \u001b[38;5;34m0\u001b[0m │ -                      │\n",
              "│ (\u001b[38;5;33mInputLayer\u001b[0m)              │                        │                │                        │\n",
              "├───────────────────────────┼────────────────────────┼────────────────┼────────────────────────┤\n",
              "│ layer_normalization_12    │ (\u001b[38;5;45mNone\u001b[0m, \u001b[38;5;34m500\u001b[0m, \u001b[38;5;34m1\u001b[0m)         │              \u001b[38;5;34m2\u001b[0m │ input_layer_3[\u001b[38;5;34m0\u001b[0m][\u001b[38;5;34m0\u001b[0m]    │\n",
              "│ (\u001b[38;5;33mLayerNormalization\u001b[0m)      │                        │                │                        │\n",
              "├───────────────────────────┼────────────────────────┼────────────────┼────────────────────────┤\n",
              "│ multi_head_attention_6    │ (\u001b[38;5;45mNone\u001b[0m, \u001b[38;5;34m500\u001b[0m, \u001b[38;5;34m1\u001b[0m)         │            \u001b[38;5;34m449\u001b[0m │ layer_normalization_1… │\n",
              "│ (\u001b[38;5;33mMultiHeadAttention\u001b[0m)      │                        │                │ layer_normalization_1… │\n",
              "├───────────────────────────┼────────────────────────┼────────────────┼────────────────────────┤\n",
              "│ add_12 (\u001b[38;5;33mAdd\u001b[0m)              │ (\u001b[38;5;45mNone\u001b[0m, \u001b[38;5;34m500\u001b[0m, \u001b[38;5;34m1\u001b[0m)         │              \u001b[38;5;34m0\u001b[0m │ multi_head_attention_… │\n",
              "│                           │                        │                │ input_layer_3[\u001b[38;5;34m0\u001b[0m][\u001b[38;5;34m0\u001b[0m]    │\n",
              "├───────────────────────────┼────────────────────────┼────────────────┼────────────────────────┤\n",
              "│ layer_normalization_13    │ (\u001b[38;5;45mNone\u001b[0m, \u001b[38;5;34m500\u001b[0m, \u001b[38;5;34m1\u001b[0m)         │              \u001b[38;5;34m2\u001b[0m │ add_12[\u001b[38;5;34m0\u001b[0m][\u001b[38;5;34m0\u001b[0m]           │\n",
              "│ (\u001b[38;5;33mLayerNormalization\u001b[0m)      │                        │                │                        │\n",
              "├───────────────────────────┼────────────────────────┼────────────────┼────────────────────────┤\n",
              "│ conv1d_12 (\u001b[38;5;33mConv1D\u001b[0m)        │ (\u001b[38;5;45mNone\u001b[0m, \u001b[38;5;34m500\u001b[0m, \u001b[38;5;34m2000\u001b[0m)      │          \u001b[38;5;34m4,000\u001b[0m │ layer_normalization_1… │\n",
              "├───────────────────────────┼────────────────────────┼────────────────┼────────────────────────┤\n",
              "│ conv1d_13 (\u001b[38;5;33mConv1D\u001b[0m)        │ (\u001b[38;5;45mNone\u001b[0m, \u001b[38;5;34m500\u001b[0m, \u001b[38;5;34m1\u001b[0m)         │          \u001b[38;5;34m2,001\u001b[0m │ conv1d_12[\u001b[38;5;34m0\u001b[0m][\u001b[38;5;34m0\u001b[0m]        │\n",
              "├───────────────────────────┼────────────────────────┼────────────────┼────────────────────────┤\n",
              "│ add_13 (\u001b[38;5;33mAdd\u001b[0m)              │ (\u001b[38;5;45mNone\u001b[0m, \u001b[38;5;34m500\u001b[0m, \u001b[38;5;34m1\u001b[0m)         │              \u001b[38;5;34m0\u001b[0m │ conv1d_13[\u001b[38;5;34m0\u001b[0m][\u001b[38;5;34m0\u001b[0m],       │\n",
              "│                           │                        │                │ add_12[\u001b[38;5;34m0\u001b[0m][\u001b[38;5;34m0\u001b[0m]           │\n",
              "├───────────────────────────┼────────────────────────┼────────────────┼────────────────────────┤\n",
              "│ layer_normalization_14    │ (\u001b[38;5;45mNone\u001b[0m, \u001b[38;5;34m500\u001b[0m, \u001b[38;5;34m1\u001b[0m)         │              \u001b[38;5;34m2\u001b[0m │ add_13[\u001b[38;5;34m0\u001b[0m][\u001b[38;5;34m0\u001b[0m]           │\n",
              "│ (\u001b[38;5;33mLayerNormalization\u001b[0m)      │                        │                │                        │\n",
              "├───────────────────────────┼────────────────────────┼────────────────┼────────────────────────┤\n",
              "│ multi_head_attention_7    │ (\u001b[38;5;45mNone\u001b[0m, \u001b[38;5;34m500\u001b[0m, \u001b[38;5;34m1\u001b[0m)         │            \u001b[38;5;34m449\u001b[0m │ layer_normalization_1… │\n",
              "│ (\u001b[38;5;33mMultiHeadAttention\u001b[0m)      │                        │                │ layer_normalization_1… │\n",
              "├───────────────────────────┼────────────────────────┼────────────────┼────────────────────────┤\n",
              "│ add_14 (\u001b[38;5;33mAdd\u001b[0m)              │ (\u001b[38;5;45mNone\u001b[0m, \u001b[38;5;34m500\u001b[0m, \u001b[38;5;34m1\u001b[0m)         │              \u001b[38;5;34m0\u001b[0m │ multi_head_attention_… │\n",
              "│                           │                        │                │ add_13[\u001b[38;5;34m0\u001b[0m][\u001b[38;5;34m0\u001b[0m]           │\n",
              "├───────────────────────────┼────────────────────────┼────────────────┼────────────────────────┤\n",
              "│ layer_normalization_15    │ (\u001b[38;5;45mNone\u001b[0m, \u001b[38;5;34m500\u001b[0m, \u001b[38;5;34m1\u001b[0m)         │              \u001b[38;5;34m2\u001b[0m │ add_14[\u001b[38;5;34m0\u001b[0m][\u001b[38;5;34m0\u001b[0m]           │\n",
              "│ (\u001b[38;5;33mLayerNormalization\u001b[0m)      │                        │                │                        │\n",
              "├───────────────────────────┼────────────────────────┼────────────────┼────────────────────────┤\n",
              "│ conv1d_14 (\u001b[38;5;33mConv1D\u001b[0m)        │ (\u001b[38;5;45mNone\u001b[0m, \u001b[38;5;34m500\u001b[0m, \u001b[38;5;34m2000\u001b[0m)      │          \u001b[38;5;34m4,000\u001b[0m │ layer_normalization_1… │\n",
              "├───────────────────────────┼────────────────────────┼────────────────┼────────────────────────┤\n",
              "│ conv1d_15 (\u001b[38;5;33mConv1D\u001b[0m)        │ (\u001b[38;5;45mNone\u001b[0m, \u001b[38;5;34m500\u001b[0m, \u001b[38;5;34m1\u001b[0m)         │          \u001b[38;5;34m2,001\u001b[0m │ conv1d_14[\u001b[38;5;34m0\u001b[0m][\u001b[38;5;34m0\u001b[0m]        │\n",
              "├───────────────────────────┼────────────────────────┼────────────────┼────────────────────────┤\n",
              "│ add_15 (\u001b[38;5;33mAdd\u001b[0m)              │ (\u001b[38;5;45mNone\u001b[0m, \u001b[38;5;34m500\u001b[0m, \u001b[38;5;34m1\u001b[0m)         │              \u001b[38;5;34m0\u001b[0m │ conv1d_15[\u001b[38;5;34m0\u001b[0m][\u001b[38;5;34m0\u001b[0m],       │\n",
              "│                           │                        │                │ add_14[\u001b[38;5;34m0\u001b[0m][\u001b[38;5;34m0\u001b[0m]           │\n",
              "├───────────────────────────┼────────────────────────┼────────────────┼────────────────────────┤\n",
              "│ global_max_pooling1d_3    │ (\u001b[38;5;45mNone\u001b[0m, \u001b[38;5;34m500\u001b[0m)            │              \u001b[38;5;34m0\u001b[0m │ add_15[\u001b[38;5;34m0\u001b[0m][\u001b[38;5;34m0\u001b[0m]           │\n",
              "│ (\u001b[38;5;33mGlobalMaxPooling1D\u001b[0m)      │                        │                │                        │\n",
              "├───────────────────────────┼────────────────────────┼────────────────┼────────────────────────┤\n",
              "│ dense_9 (\u001b[38;5;33mDense\u001b[0m)           │ (\u001b[38;5;45mNone\u001b[0m, \u001b[38;5;34m256\u001b[0m)            │        \u001b[38;5;34m128,256\u001b[0m │ global_max_pooling1d_… │\n",
              "├───────────────────────────┼────────────────────────┼────────────────┼────────────────────────┤\n",
              "│ dense_10 (\u001b[38;5;33mDense\u001b[0m)          │ (\u001b[38;5;45mNone\u001b[0m, \u001b[38;5;34m50\u001b[0m)             │         \u001b[38;5;34m12,850\u001b[0m │ dense_9[\u001b[38;5;34m0\u001b[0m][\u001b[38;5;34m0\u001b[0m]          │\n",
              "├───────────────────────────┼────────────────────────┼────────────────┼────────────────────────┤\n",
              "│ dense_11 (\u001b[38;5;33mDense\u001b[0m)          │ (\u001b[38;5;45mNone\u001b[0m, \u001b[38;5;34m2\u001b[0m)              │            \u001b[38;5;34m102\u001b[0m │ dense_10[\u001b[38;5;34m0\u001b[0m][\u001b[38;5;34m0\u001b[0m]         │\n",
              "└───────────────────────────┴────────────────────────┴────────────────┴────────────────────────┘\n"
            ],
            "text/html": [
              "<pre style=\"white-space:pre;overflow-x:auto;line-height:normal;font-family:Menlo,'DejaVu Sans Mono',consolas,'Courier New',monospace\">┏━━━━━━━━━━━━━━━━━━━━━━━━━━━┳━━━━━━━━━━━━━━━━━━━━━━━━┳━━━━━━━━━━━━━━━━┳━━━━━━━━━━━━━━━━━━━━━━━━┓\n",
              "┃<span style=\"font-weight: bold\"> Layer (type)              </span>┃<span style=\"font-weight: bold\"> Output Shape           </span>┃<span style=\"font-weight: bold\">        Param # </span>┃<span style=\"font-weight: bold\"> Connected to           </span>┃\n",
              "┡━━━━━━━━━━━━━━━━━━━━━━━━━━━╇━━━━━━━━━━━━━━━━━━━━━━━━╇━━━━━━━━━━━━━━━━╇━━━━━━━━━━━━━━━━━━━━━━━━┩\n",
              "│ input_layer_3             │ (<span style=\"color: #00d7ff; text-decoration-color: #00d7ff\">None</span>, <span style=\"color: #00af00; text-decoration-color: #00af00\">500</span>, <span style=\"color: #00af00; text-decoration-color: #00af00\">1</span>)         │              <span style=\"color: #00af00; text-decoration-color: #00af00\">0</span> │ -                      │\n",
              "│ (<span style=\"color: #0087ff; text-decoration-color: #0087ff\">InputLayer</span>)              │                        │                │                        │\n",
              "├───────────────────────────┼────────────────────────┼────────────────┼────────────────────────┤\n",
              "│ layer_normalization_12    │ (<span style=\"color: #00d7ff; text-decoration-color: #00d7ff\">None</span>, <span style=\"color: #00af00; text-decoration-color: #00af00\">500</span>, <span style=\"color: #00af00; text-decoration-color: #00af00\">1</span>)         │              <span style=\"color: #00af00; text-decoration-color: #00af00\">2</span> │ input_layer_3[<span style=\"color: #00af00; text-decoration-color: #00af00\">0</span>][<span style=\"color: #00af00; text-decoration-color: #00af00\">0</span>]    │\n",
              "│ (<span style=\"color: #0087ff; text-decoration-color: #0087ff\">LayerNormalization</span>)      │                        │                │                        │\n",
              "├───────────────────────────┼────────────────────────┼────────────────┼────────────────────────┤\n",
              "│ multi_head_attention_6    │ (<span style=\"color: #00d7ff; text-decoration-color: #00d7ff\">None</span>, <span style=\"color: #00af00; text-decoration-color: #00af00\">500</span>, <span style=\"color: #00af00; text-decoration-color: #00af00\">1</span>)         │            <span style=\"color: #00af00; text-decoration-color: #00af00\">449</span> │ layer_normalization_1… │\n",
              "│ (<span style=\"color: #0087ff; text-decoration-color: #0087ff\">MultiHeadAttention</span>)      │                        │                │ layer_normalization_1… │\n",
              "├───────────────────────────┼────────────────────────┼────────────────┼────────────────────────┤\n",
              "│ add_12 (<span style=\"color: #0087ff; text-decoration-color: #0087ff\">Add</span>)              │ (<span style=\"color: #00d7ff; text-decoration-color: #00d7ff\">None</span>, <span style=\"color: #00af00; text-decoration-color: #00af00\">500</span>, <span style=\"color: #00af00; text-decoration-color: #00af00\">1</span>)         │              <span style=\"color: #00af00; text-decoration-color: #00af00\">0</span> │ multi_head_attention_… │\n",
              "│                           │                        │                │ input_layer_3[<span style=\"color: #00af00; text-decoration-color: #00af00\">0</span>][<span style=\"color: #00af00; text-decoration-color: #00af00\">0</span>]    │\n",
              "├───────────────────────────┼────────────────────────┼────────────────┼────────────────────────┤\n",
              "│ layer_normalization_13    │ (<span style=\"color: #00d7ff; text-decoration-color: #00d7ff\">None</span>, <span style=\"color: #00af00; text-decoration-color: #00af00\">500</span>, <span style=\"color: #00af00; text-decoration-color: #00af00\">1</span>)         │              <span style=\"color: #00af00; text-decoration-color: #00af00\">2</span> │ add_12[<span style=\"color: #00af00; text-decoration-color: #00af00\">0</span>][<span style=\"color: #00af00; text-decoration-color: #00af00\">0</span>]           │\n",
              "│ (<span style=\"color: #0087ff; text-decoration-color: #0087ff\">LayerNormalization</span>)      │                        │                │                        │\n",
              "├───────────────────────────┼────────────────────────┼────────────────┼────────────────────────┤\n",
              "│ conv1d_12 (<span style=\"color: #0087ff; text-decoration-color: #0087ff\">Conv1D</span>)        │ (<span style=\"color: #00d7ff; text-decoration-color: #00d7ff\">None</span>, <span style=\"color: #00af00; text-decoration-color: #00af00\">500</span>, <span style=\"color: #00af00; text-decoration-color: #00af00\">2000</span>)      │          <span style=\"color: #00af00; text-decoration-color: #00af00\">4,000</span> │ layer_normalization_1… │\n",
              "├───────────────────────────┼────────────────────────┼────────────────┼────────────────────────┤\n",
              "│ conv1d_13 (<span style=\"color: #0087ff; text-decoration-color: #0087ff\">Conv1D</span>)        │ (<span style=\"color: #00d7ff; text-decoration-color: #00d7ff\">None</span>, <span style=\"color: #00af00; text-decoration-color: #00af00\">500</span>, <span style=\"color: #00af00; text-decoration-color: #00af00\">1</span>)         │          <span style=\"color: #00af00; text-decoration-color: #00af00\">2,001</span> │ conv1d_12[<span style=\"color: #00af00; text-decoration-color: #00af00\">0</span>][<span style=\"color: #00af00; text-decoration-color: #00af00\">0</span>]        │\n",
              "├───────────────────────────┼────────────────────────┼────────────────┼────────────────────────┤\n",
              "│ add_13 (<span style=\"color: #0087ff; text-decoration-color: #0087ff\">Add</span>)              │ (<span style=\"color: #00d7ff; text-decoration-color: #00d7ff\">None</span>, <span style=\"color: #00af00; text-decoration-color: #00af00\">500</span>, <span style=\"color: #00af00; text-decoration-color: #00af00\">1</span>)         │              <span style=\"color: #00af00; text-decoration-color: #00af00\">0</span> │ conv1d_13[<span style=\"color: #00af00; text-decoration-color: #00af00\">0</span>][<span style=\"color: #00af00; text-decoration-color: #00af00\">0</span>],       │\n",
              "│                           │                        │                │ add_12[<span style=\"color: #00af00; text-decoration-color: #00af00\">0</span>][<span style=\"color: #00af00; text-decoration-color: #00af00\">0</span>]           │\n",
              "├───────────────────────────┼────────────────────────┼────────────────┼────────────────────────┤\n",
              "│ layer_normalization_14    │ (<span style=\"color: #00d7ff; text-decoration-color: #00d7ff\">None</span>, <span style=\"color: #00af00; text-decoration-color: #00af00\">500</span>, <span style=\"color: #00af00; text-decoration-color: #00af00\">1</span>)         │              <span style=\"color: #00af00; text-decoration-color: #00af00\">2</span> │ add_13[<span style=\"color: #00af00; text-decoration-color: #00af00\">0</span>][<span style=\"color: #00af00; text-decoration-color: #00af00\">0</span>]           │\n",
              "│ (<span style=\"color: #0087ff; text-decoration-color: #0087ff\">LayerNormalization</span>)      │                        │                │                        │\n",
              "├───────────────────────────┼────────────────────────┼────────────────┼────────────────────────┤\n",
              "│ multi_head_attention_7    │ (<span style=\"color: #00d7ff; text-decoration-color: #00d7ff\">None</span>, <span style=\"color: #00af00; text-decoration-color: #00af00\">500</span>, <span style=\"color: #00af00; text-decoration-color: #00af00\">1</span>)         │            <span style=\"color: #00af00; text-decoration-color: #00af00\">449</span> │ layer_normalization_1… │\n",
              "│ (<span style=\"color: #0087ff; text-decoration-color: #0087ff\">MultiHeadAttention</span>)      │                        │                │ layer_normalization_1… │\n",
              "├───────────────────────────┼────────────────────────┼────────────────┼────────────────────────┤\n",
              "│ add_14 (<span style=\"color: #0087ff; text-decoration-color: #0087ff\">Add</span>)              │ (<span style=\"color: #00d7ff; text-decoration-color: #00d7ff\">None</span>, <span style=\"color: #00af00; text-decoration-color: #00af00\">500</span>, <span style=\"color: #00af00; text-decoration-color: #00af00\">1</span>)         │              <span style=\"color: #00af00; text-decoration-color: #00af00\">0</span> │ multi_head_attention_… │\n",
              "│                           │                        │                │ add_13[<span style=\"color: #00af00; text-decoration-color: #00af00\">0</span>][<span style=\"color: #00af00; text-decoration-color: #00af00\">0</span>]           │\n",
              "├───────────────────────────┼────────────────────────┼────────────────┼────────────────────────┤\n",
              "│ layer_normalization_15    │ (<span style=\"color: #00d7ff; text-decoration-color: #00d7ff\">None</span>, <span style=\"color: #00af00; text-decoration-color: #00af00\">500</span>, <span style=\"color: #00af00; text-decoration-color: #00af00\">1</span>)         │              <span style=\"color: #00af00; text-decoration-color: #00af00\">2</span> │ add_14[<span style=\"color: #00af00; text-decoration-color: #00af00\">0</span>][<span style=\"color: #00af00; text-decoration-color: #00af00\">0</span>]           │\n",
              "│ (<span style=\"color: #0087ff; text-decoration-color: #0087ff\">LayerNormalization</span>)      │                        │                │                        │\n",
              "├───────────────────────────┼────────────────────────┼────────────────┼────────────────────────┤\n",
              "│ conv1d_14 (<span style=\"color: #0087ff; text-decoration-color: #0087ff\">Conv1D</span>)        │ (<span style=\"color: #00d7ff; text-decoration-color: #00d7ff\">None</span>, <span style=\"color: #00af00; text-decoration-color: #00af00\">500</span>, <span style=\"color: #00af00; text-decoration-color: #00af00\">2000</span>)      │          <span style=\"color: #00af00; text-decoration-color: #00af00\">4,000</span> │ layer_normalization_1… │\n",
              "├───────────────────────────┼────────────────────────┼────────────────┼────────────────────────┤\n",
              "│ conv1d_15 (<span style=\"color: #0087ff; text-decoration-color: #0087ff\">Conv1D</span>)        │ (<span style=\"color: #00d7ff; text-decoration-color: #00d7ff\">None</span>, <span style=\"color: #00af00; text-decoration-color: #00af00\">500</span>, <span style=\"color: #00af00; text-decoration-color: #00af00\">1</span>)         │          <span style=\"color: #00af00; text-decoration-color: #00af00\">2,001</span> │ conv1d_14[<span style=\"color: #00af00; text-decoration-color: #00af00\">0</span>][<span style=\"color: #00af00; text-decoration-color: #00af00\">0</span>]        │\n",
              "├───────────────────────────┼────────────────────────┼────────────────┼────────────────────────┤\n",
              "│ add_15 (<span style=\"color: #0087ff; text-decoration-color: #0087ff\">Add</span>)              │ (<span style=\"color: #00d7ff; text-decoration-color: #00d7ff\">None</span>, <span style=\"color: #00af00; text-decoration-color: #00af00\">500</span>, <span style=\"color: #00af00; text-decoration-color: #00af00\">1</span>)         │              <span style=\"color: #00af00; text-decoration-color: #00af00\">0</span> │ conv1d_15[<span style=\"color: #00af00; text-decoration-color: #00af00\">0</span>][<span style=\"color: #00af00; text-decoration-color: #00af00\">0</span>],       │\n",
              "│                           │                        │                │ add_14[<span style=\"color: #00af00; text-decoration-color: #00af00\">0</span>][<span style=\"color: #00af00; text-decoration-color: #00af00\">0</span>]           │\n",
              "├───────────────────────────┼────────────────────────┼────────────────┼────────────────────────┤\n",
              "│ global_max_pooling1d_3    │ (<span style=\"color: #00d7ff; text-decoration-color: #00d7ff\">None</span>, <span style=\"color: #00af00; text-decoration-color: #00af00\">500</span>)            │              <span style=\"color: #00af00; text-decoration-color: #00af00\">0</span> │ add_15[<span style=\"color: #00af00; text-decoration-color: #00af00\">0</span>][<span style=\"color: #00af00; text-decoration-color: #00af00\">0</span>]           │\n",
              "│ (<span style=\"color: #0087ff; text-decoration-color: #0087ff\">GlobalMaxPooling1D</span>)      │                        │                │                        │\n",
              "├───────────────────────────┼────────────────────────┼────────────────┼────────────────────────┤\n",
              "│ dense_9 (<span style=\"color: #0087ff; text-decoration-color: #0087ff\">Dense</span>)           │ (<span style=\"color: #00d7ff; text-decoration-color: #00d7ff\">None</span>, <span style=\"color: #00af00; text-decoration-color: #00af00\">256</span>)            │        <span style=\"color: #00af00; text-decoration-color: #00af00\">128,256</span> │ global_max_pooling1d_… │\n",
              "├───────────────────────────┼────────────────────────┼────────────────┼────────────────────────┤\n",
              "│ dense_10 (<span style=\"color: #0087ff; text-decoration-color: #0087ff\">Dense</span>)          │ (<span style=\"color: #00d7ff; text-decoration-color: #00d7ff\">None</span>, <span style=\"color: #00af00; text-decoration-color: #00af00\">50</span>)             │         <span style=\"color: #00af00; text-decoration-color: #00af00\">12,850</span> │ dense_9[<span style=\"color: #00af00; text-decoration-color: #00af00\">0</span>][<span style=\"color: #00af00; text-decoration-color: #00af00\">0</span>]          │\n",
              "├───────────────────────────┼────────────────────────┼────────────────┼────────────────────────┤\n",
              "│ dense_11 (<span style=\"color: #0087ff; text-decoration-color: #0087ff\">Dense</span>)          │ (<span style=\"color: #00d7ff; text-decoration-color: #00d7ff\">None</span>, <span style=\"color: #00af00; text-decoration-color: #00af00\">2</span>)              │            <span style=\"color: #00af00; text-decoration-color: #00af00\">102</span> │ dense_10[<span style=\"color: #00af00; text-decoration-color: #00af00\">0</span>][<span style=\"color: #00af00; text-decoration-color: #00af00\">0</span>]         │\n",
              "└───────────────────────────┴────────────────────────┴────────────────┴────────────────────────┘\n",
              "</pre>\n"
            ]
          },
          "metadata": {}
        },
        {
          "output_type": "display_data",
          "data": {
            "text/plain": [
              "\u001b[1m Total params: \u001b[0m\u001b[38;5;34m154,116\u001b[0m (602.02 KB)\n"
            ],
            "text/html": [
              "<pre style=\"white-space:pre;overflow-x:auto;line-height:normal;font-family:Menlo,'DejaVu Sans Mono',consolas,'Courier New',monospace\"><span style=\"font-weight: bold\"> Total params: </span><span style=\"color: #00af00; text-decoration-color: #00af00\">154,116</span> (602.02 KB)\n",
              "</pre>\n"
            ]
          },
          "metadata": {}
        },
        {
          "output_type": "display_data",
          "data": {
            "text/plain": [
              "\u001b[1m Trainable params: \u001b[0m\u001b[38;5;34m154,116\u001b[0m (602.02 KB)\n"
            ],
            "text/html": [
              "<pre style=\"white-space:pre;overflow-x:auto;line-height:normal;font-family:Menlo,'DejaVu Sans Mono',consolas,'Courier New',monospace\"><span style=\"font-weight: bold\"> Trainable params: </span><span style=\"color: #00af00; text-decoration-color: #00af00\">154,116</span> (602.02 KB)\n",
              "</pre>\n"
            ]
          },
          "metadata": {}
        },
        {
          "output_type": "display_data",
          "data": {
            "text/plain": [
              "\u001b[1m Non-trainable params: \u001b[0m\u001b[38;5;34m0\u001b[0m (0.00 B)\n"
            ],
            "text/html": [
              "<pre style=\"white-space:pre;overflow-x:auto;line-height:normal;font-family:Menlo,'DejaVu Sans Mono',consolas,'Courier New',monospace\"><span style=\"font-weight: bold\"> Non-trainable params: </span><span style=\"color: #00af00; text-decoration-color: #00af00\">0</span> (0.00 B)\n",
              "</pre>\n"
            ]
          },
          "metadata": {}
        }
      ]
    },
    {
      "cell_type": "code",
      "source": [
        "# compile model\n",
        "model.compile(loss=\"sparse_categorical_crossentropy\", optimizer=keras.optimizers.Adam(learning_rate = 1e-4), metrics=[\"sparse_categorical_accuracy\"])"
      ],
      "metadata": {
        "id": "-SNDcFaMhloh"
      },
      "execution_count": 28,
      "outputs": []
    },
    {
      "cell_type": "code",
      "source": [
        "callbacks = [keras.callbacks.EarlyStopping(patience=10, restore_best_weights=True)]"
      ],
      "metadata": {
        "id": "LXucKGAxhlgd"
      },
      "execution_count": 29,
      "outputs": []
    },
    {
      "cell_type": "code",
      "source": [
        "# fit model\n",
        "model.fit(x_train, y_train, validation_split=0.2, epochs=100, batch_size=32, verbose = 2)"
      ],
      "metadata": {
        "colab": {
          "base_uri": "https://localhost:8080/"
        },
        "id": "8FjFoMxvhlYm",
        "outputId": "90f7858e-76fe-4c56-d6f8-7afe921d87e7"
      },
      "execution_count": 30,
      "outputs": [
        {
          "output_type": "stream",
          "name": "stdout",
          "text": [
            "Epoch 1/100\n",
            "90/90 - 21s - 238ms/step - loss: 0.6836 - sparse_categorical_accuracy: 0.5910 - val_loss: 0.6366 - val_sparse_categorical_accuracy: 0.6505\n",
            "Epoch 2/100\n",
            "90/90 - 9s - 104ms/step - loss: 0.5495 - sparse_categorical_accuracy: 0.7260 - val_loss: 0.5790 - val_sparse_categorical_accuracy: 0.6990\n",
            "Epoch 3/100\n",
            "90/90 - 6s - 64ms/step - loss: 0.4798 - sparse_categorical_accuracy: 0.7844 - val_loss: 0.5593 - val_sparse_categorical_accuracy: 0.7226\n",
            "Epoch 4/100\n",
            "90/90 - 10s - 116ms/step - loss: 0.4306 - sparse_categorical_accuracy: 0.8299 - val_loss: 0.5376 - val_sparse_categorical_accuracy: 0.7184\n",
            "Epoch 5/100\n",
            "90/90 - 6s - 65ms/step - loss: 0.3912 - sparse_categorical_accuracy: 0.8556 - val_loss: 0.5237 - val_sparse_categorical_accuracy: 0.7351\n",
            "Epoch 6/100\n",
            "90/90 - 10s - 112ms/step - loss: 0.3562 - sparse_categorical_accuracy: 0.8799 - val_loss: 0.5081 - val_sparse_categorical_accuracy: 0.7503\n",
            "Epoch 7/100\n",
            "90/90 - 6s - 66ms/step - loss: 0.3262 - sparse_categorical_accuracy: 0.8931 - val_loss: 0.4963 - val_sparse_categorical_accuracy: 0.7698\n",
            "Epoch 8/100\n",
            "90/90 - 10s - 111ms/step - loss: 0.2986 - sparse_categorical_accuracy: 0.9069 - val_loss: 0.4922 - val_sparse_categorical_accuracy: 0.7642\n",
            "Epoch 9/100\n",
            "90/90 - 6s - 64ms/step - loss: 0.2757 - sparse_categorical_accuracy: 0.9198 - val_loss: 0.4818 - val_sparse_categorical_accuracy: 0.7601\n",
            "Epoch 10/100\n",
            "90/90 - 10s - 114ms/step - loss: 0.2503 - sparse_categorical_accuracy: 0.9365 - val_loss: 0.4710 - val_sparse_categorical_accuracy: 0.7809\n",
            "Epoch 11/100\n",
            "90/90 - 10s - 115ms/step - loss: 0.2309 - sparse_categorical_accuracy: 0.9479 - val_loss: 0.4680 - val_sparse_categorical_accuracy: 0.7864\n",
            "Epoch 12/100\n",
            "90/90 - 6s - 64ms/step - loss: 0.2120 - sparse_categorical_accuracy: 0.9524 - val_loss: 0.4607 - val_sparse_categorical_accuracy: 0.7864\n",
            "Epoch 13/100\n",
            "90/90 - 6s - 66ms/step - loss: 0.1948 - sparse_categorical_accuracy: 0.9576 - val_loss: 0.4628 - val_sparse_categorical_accuracy: 0.7822\n",
            "Epoch 14/100\n",
            "90/90 - 6s - 64ms/step - loss: 0.1786 - sparse_categorical_accuracy: 0.9656 - val_loss: 0.4524 - val_sparse_categorical_accuracy: 0.7850\n",
            "Epoch 15/100\n",
            "90/90 - 10s - 115ms/step - loss: 0.1635 - sparse_categorical_accuracy: 0.9698 - val_loss: 0.4562 - val_sparse_categorical_accuracy: 0.7753\n",
            "Epoch 16/100\n",
            "90/90 - 10s - 113ms/step - loss: 0.1503 - sparse_categorical_accuracy: 0.9743 - val_loss: 0.4634 - val_sparse_categorical_accuracy: 0.7864\n",
            "Epoch 17/100\n",
            "90/90 - 6s - 64ms/step - loss: 0.1384 - sparse_categorical_accuracy: 0.9767 - val_loss: 0.4495 - val_sparse_categorical_accuracy: 0.7920\n",
            "Epoch 18/100\n",
            "90/90 - 10s - 116ms/step - loss: 0.1261 - sparse_categorical_accuracy: 0.9826 - val_loss: 0.4540 - val_sparse_categorical_accuracy: 0.7781\n",
            "Epoch 19/100\n",
            "90/90 - 10s - 114ms/step - loss: 0.1157 - sparse_categorical_accuracy: 0.9861 - val_loss: 0.4520 - val_sparse_categorical_accuracy: 0.7878\n",
            "Epoch 20/100\n",
            "90/90 - 10s - 111ms/step - loss: 0.1057 - sparse_categorical_accuracy: 0.9875 - val_loss: 0.4525 - val_sparse_categorical_accuracy: 0.7906\n",
            "Epoch 21/100\n",
            "90/90 - 10s - 113ms/step - loss: 0.0966 - sparse_categorical_accuracy: 0.9906 - val_loss: 0.4597 - val_sparse_categorical_accuracy: 0.7864\n",
            "Epoch 22/100\n",
            "90/90 - 10s - 116ms/step - loss: 0.0882 - sparse_categorical_accuracy: 0.9920 - val_loss: 0.4573 - val_sparse_categorical_accuracy: 0.7920\n",
            "Epoch 23/100\n",
            "90/90 - 10s - 112ms/step - loss: 0.0818 - sparse_categorical_accuracy: 0.9937 - val_loss: 0.4623 - val_sparse_categorical_accuracy: 0.7878\n",
            "Epoch 24/100\n",
            "90/90 - 10s - 114ms/step - loss: 0.0750 - sparse_categorical_accuracy: 0.9951 - val_loss: 0.4586 - val_sparse_categorical_accuracy: 0.7892\n",
            "Epoch 25/100\n",
            "90/90 - 6s - 64ms/step - loss: 0.0687 - sparse_categorical_accuracy: 0.9948 - val_loss: 0.4609 - val_sparse_categorical_accuracy: 0.7961\n",
            "Epoch 26/100\n",
            "90/90 - 6s - 64ms/step - loss: 0.0645 - sparse_categorical_accuracy: 0.9958 - val_loss: 0.4726 - val_sparse_categorical_accuracy: 0.7892\n",
            "Epoch 27/100\n",
            "90/90 - 6s - 66ms/step - loss: 0.0576 - sparse_categorical_accuracy: 0.9976 - val_loss: 0.4695 - val_sparse_categorical_accuracy: 0.8017\n",
            "Epoch 28/100\n",
            "90/90 - 6s - 67ms/step - loss: 0.0536 - sparse_categorical_accuracy: 0.9979 - val_loss: 0.4721 - val_sparse_categorical_accuracy: 0.7864\n",
            "Epoch 29/100\n",
            "90/90 - 10s - 112ms/step - loss: 0.0484 - sparse_categorical_accuracy: 0.9990 - val_loss: 0.4704 - val_sparse_categorical_accuracy: 0.7906\n",
            "Epoch 30/100\n",
            "90/90 - 10s - 113ms/step - loss: 0.0443 - sparse_categorical_accuracy: 0.9990 - val_loss: 0.4890 - val_sparse_categorical_accuracy: 0.7961\n",
            "Epoch 31/100\n",
            "90/90 - 10s - 114ms/step - loss: 0.0408 - sparse_categorical_accuracy: 0.9993 - val_loss: 0.4904 - val_sparse_categorical_accuracy: 0.7947\n",
            "Epoch 32/100\n",
            "90/90 - 10s - 113ms/step - loss: 0.0377 - sparse_categorical_accuracy: 1.0000 - val_loss: 0.4868 - val_sparse_categorical_accuracy: 0.8003\n",
            "Epoch 33/100\n",
            "90/90 - 10s - 115ms/step - loss: 0.0344 - sparse_categorical_accuracy: 1.0000 - val_loss: 0.4949 - val_sparse_categorical_accuracy: 0.8003\n",
            "Epoch 34/100\n",
            "90/90 - 6s - 67ms/step - loss: 0.0314 - sparse_categorical_accuracy: 0.9997 - val_loss: 0.5208 - val_sparse_categorical_accuracy: 0.7878\n",
            "Epoch 35/100\n",
            "90/90 - 6s - 65ms/step - loss: 0.0296 - sparse_categorical_accuracy: 0.9997 - val_loss: 0.5215 - val_sparse_categorical_accuracy: 0.7920\n",
            "Epoch 36/100\n",
            "90/90 - 10s - 116ms/step - loss: 0.0274 - sparse_categorical_accuracy: 1.0000 - val_loss: 0.5000 - val_sparse_categorical_accuracy: 0.8072\n",
            "Epoch 37/100\n",
            "90/90 - 6s - 64ms/step - loss: 0.0250 - sparse_categorical_accuracy: 1.0000 - val_loss: 0.5158 - val_sparse_categorical_accuracy: 0.8058\n",
            "Epoch 38/100\n",
            "90/90 - 6s - 65ms/step - loss: 0.0226 - sparse_categorical_accuracy: 1.0000 - val_loss: 0.5359 - val_sparse_categorical_accuracy: 0.7975\n",
            "Epoch 39/100\n",
            "90/90 - 6s - 66ms/step - loss: 0.0212 - sparse_categorical_accuracy: 1.0000 - val_loss: 0.5276 - val_sparse_categorical_accuracy: 0.7989\n",
            "Epoch 40/100\n",
            "90/90 - 6s - 65ms/step - loss: 0.0193 - sparse_categorical_accuracy: 1.0000 - val_loss: 0.5273 - val_sparse_categorical_accuracy: 0.8044\n",
            "Epoch 41/100\n",
            "90/90 - 10s - 116ms/step - loss: 0.0182 - sparse_categorical_accuracy: 1.0000 - val_loss: 0.5274 - val_sparse_categorical_accuracy: 0.8044\n",
            "Epoch 42/100\n",
            "90/90 - 10s - 113ms/step - loss: 0.0165 - sparse_categorical_accuracy: 1.0000 - val_loss: 0.5372 - val_sparse_categorical_accuracy: 0.7989\n",
            "Epoch 43/100\n",
            "90/90 - 6s - 64ms/step - loss: 0.0153 - sparse_categorical_accuracy: 1.0000 - val_loss: 0.5437 - val_sparse_categorical_accuracy: 0.8017\n",
            "Epoch 44/100\n",
            "90/90 - 6s - 64ms/step - loss: 0.0140 - sparse_categorical_accuracy: 1.0000 - val_loss: 0.5516 - val_sparse_categorical_accuracy: 0.7989\n",
            "Epoch 45/100\n",
            "90/90 - 10s - 116ms/step - loss: 0.0132 - sparse_categorical_accuracy: 1.0000 - val_loss: 0.5557 - val_sparse_categorical_accuracy: 0.7961\n",
            "Epoch 46/100\n",
            "90/90 - 10s - 111ms/step - loss: 0.0122 - sparse_categorical_accuracy: 1.0000 - val_loss: 0.5659 - val_sparse_categorical_accuracy: 0.8044\n",
            "Epoch 47/100\n",
            "90/90 - 6s - 65ms/step - loss: 0.0109 - sparse_categorical_accuracy: 1.0000 - val_loss: 0.5699 - val_sparse_categorical_accuracy: 0.8058\n",
            "Epoch 48/100\n",
            "90/90 - 6s - 65ms/step - loss: 0.0104 - sparse_categorical_accuracy: 1.0000 - val_loss: 0.5717 - val_sparse_categorical_accuracy: 0.8031\n",
            "Epoch 49/100\n",
            "90/90 - 6s - 66ms/step - loss: 0.0097 - sparse_categorical_accuracy: 1.0000 - val_loss: 0.5657 - val_sparse_categorical_accuracy: 0.8114\n",
            "Epoch 50/100\n",
            "90/90 - 6s - 65ms/step - loss: 0.0091 - sparse_categorical_accuracy: 1.0000 - val_loss: 0.5865 - val_sparse_categorical_accuracy: 0.8058\n",
            "Epoch 51/100\n",
            "90/90 - 10s - 114ms/step - loss: 0.0085 - sparse_categorical_accuracy: 1.0000 - val_loss: 0.5899 - val_sparse_categorical_accuracy: 0.8017\n",
            "Epoch 52/100\n",
            "90/90 - 6s - 66ms/step - loss: 0.0077 - sparse_categorical_accuracy: 1.0000 - val_loss: 0.5952 - val_sparse_categorical_accuracy: 0.8100\n",
            "Epoch 53/100\n",
            "90/90 - 10s - 112ms/step - loss: 0.0072 - sparse_categorical_accuracy: 1.0000 - val_loss: 0.5976 - val_sparse_categorical_accuracy: 0.8044\n",
            "Epoch 54/100\n",
            "90/90 - 6s - 67ms/step - loss: 0.0067 - sparse_categorical_accuracy: 1.0000 - val_loss: 0.6052 - val_sparse_categorical_accuracy: 0.8086\n",
            "Epoch 55/100\n",
            "90/90 - 6s - 66ms/step - loss: 0.0063 - sparse_categorical_accuracy: 1.0000 - val_loss: 0.6107 - val_sparse_categorical_accuracy: 0.8003\n",
            "Epoch 56/100\n",
            "90/90 - 6s - 65ms/step - loss: 0.0058 - sparse_categorical_accuracy: 1.0000 - val_loss: 0.6191 - val_sparse_categorical_accuracy: 0.8031\n",
            "Epoch 57/100\n",
            "90/90 - 6s - 67ms/step - loss: 0.0054 - sparse_categorical_accuracy: 1.0000 - val_loss: 0.6178 - val_sparse_categorical_accuracy: 0.8058\n",
            "Epoch 58/100\n",
            "90/90 - 6s - 66ms/step - loss: 0.0050 - sparse_categorical_accuracy: 1.0000 - val_loss: 0.6221 - val_sparse_categorical_accuracy: 0.8114\n",
            "Epoch 59/100\n",
            "90/90 - 10s - 114ms/step - loss: 0.0047 - sparse_categorical_accuracy: 1.0000 - val_loss: 0.6264 - val_sparse_categorical_accuracy: 0.8128\n",
            "Epoch 60/100\n",
            "90/90 - 10s - 114ms/step - loss: 0.0043 - sparse_categorical_accuracy: 1.0000 - val_loss: 0.6401 - val_sparse_categorical_accuracy: 0.8058\n",
            "Epoch 61/100\n",
            "90/90 - 6s - 71ms/step - loss: 0.0041 - sparse_categorical_accuracy: 1.0000 - val_loss: 0.6472 - val_sparse_categorical_accuracy: 0.8141\n",
            "Epoch 62/100\n",
            "90/90 - 10s - 110ms/step - loss: 0.0038 - sparse_categorical_accuracy: 1.0000 - val_loss: 0.6524 - val_sparse_categorical_accuracy: 0.8114\n",
            "Epoch 63/100\n",
            "90/90 - 10s - 112ms/step - loss: 0.0036 - sparse_categorical_accuracy: 1.0000 - val_loss: 0.6643 - val_sparse_categorical_accuracy: 0.8072\n",
            "Epoch 64/100\n",
            "90/90 - 6s - 65ms/step - loss: 0.0034 - sparse_categorical_accuracy: 1.0000 - val_loss: 0.6572 - val_sparse_categorical_accuracy: 0.8114\n",
            "Epoch 65/100\n",
            "90/90 - 10s - 116ms/step - loss: 0.0031 - sparse_categorical_accuracy: 1.0000 - val_loss: 0.6695 - val_sparse_categorical_accuracy: 0.8072\n",
            "Epoch 66/100\n",
            "90/90 - 10s - 111ms/step - loss: 0.0029 - sparse_categorical_accuracy: 1.0000 - val_loss: 0.6643 - val_sparse_categorical_accuracy: 0.8100\n",
            "Epoch 67/100\n",
            "90/90 - 6s - 64ms/step - loss: 0.0027 - sparse_categorical_accuracy: 1.0000 - val_loss: 0.6773 - val_sparse_categorical_accuracy: 0.8086\n",
            "Epoch 68/100\n",
            "90/90 - 6s - 64ms/step - loss: 0.0026 - sparse_categorical_accuracy: 1.0000 - val_loss: 0.6885 - val_sparse_categorical_accuracy: 0.8044\n",
            "Epoch 69/100\n",
            "90/90 - 6s - 67ms/step - loss: 0.0024 - sparse_categorical_accuracy: 1.0000 - val_loss: 0.6902 - val_sparse_categorical_accuracy: 0.8100\n",
            "Epoch 70/100\n",
            "90/90 - 6s - 64ms/step - loss: 0.0022 - sparse_categorical_accuracy: 1.0000 - val_loss: 0.6959 - val_sparse_categorical_accuracy: 0.8086\n",
            "Epoch 71/100\n",
            "90/90 - 10s - 114ms/step - loss: 0.0021 - sparse_categorical_accuracy: 1.0000 - val_loss: 0.6995 - val_sparse_categorical_accuracy: 0.8072\n",
            "Epoch 72/100\n",
            "90/90 - 10s - 113ms/step - loss: 0.0020 - sparse_categorical_accuracy: 1.0000 - val_loss: 0.6987 - val_sparse_categorical_accuracy: 0.8100\n",
            "Epoch 73/100\n",
            "90/90 - 10s - 115ms/step - loss: 0.0018 - sparse_categorical_accuracy: 1.0000 - val_loss: 0.7098 - val_sparse_categorical_accuracy: 0.8058\n",
            "Epoch 74/100\n",
            "90/90 - 10s - 114ms/step - loss: 0.0017 - sparse_categorical_accuracy: 1.0000 - val_loss: 0.7062 - val_sparse_categorical_accuracy: 0.8086\n",
            "Epoch 75/100\n",
            "90/90 - 10s - 115ms/step - loss: 0.0016 - sparse_categorical_accuracy: 1.0000 - val_loss: 0.7222 - val_sparse_categorical_accuracy: 0.8100\n",
            "Epoch 76/100\n",
            "90/90 - 10s - 113ms/step - loss: 0.0015 - sparse_categorical_accuracy: 1.0000 - val_loss: 0.7243 - val_sparse_categorical_accuracy: 0.8017\n",
            "Epoch 77/100\n",
            "90/90 - 6s - 65ms/step - loss: 0.0014 - sparse_categorical_accuracy: 1.0000 - val_loss: 0.7302 - val_sparse_categorical_accuracy: 0.8031\n",
            "Epoch 78/100\n",
            "90/90 - 10s - 114ms/step - loss: 0.0013 - sparse_categorical_accuracy: 1.0000 - val_loss: 0.7377 - val_sparse_categorical_accuracy: 0.8114\n",
            "Epoch 79/100\n",
            "90/90 - 6s - 64ms/step - loss: 0.0013 - sparse_categorical_accuracy: 1.0000 - val_loss: 0.7460 - val_sparse_categorical_accuracy: 0.8100\n",
            "Epoch 80/100\n",
            "90/90 - 10s - 114ms/step - loss: 0.0012 - sparse_categorical_accuracy: 1.0000 - val_loss: 0.7419 - val_sparse_categorical_accuracy: 0.8114\n",
            "Epoch 81/100\n",
            "90/90 - 10s - 115ms/step - loss: 0.0011 - sparse_categorical_accuracy: 1.0000 - val_loss: 0.7547 - val_sparse_categorical_accuracy: 0.8086\n",
            "Epoch 82/100\n",
            "90/90 - 10s - 111ms/step - loss: 0.0011 - sparse_categorical_accuracy: 1.0000 - val_loss: 0.7559 - val_sparse_categorical_accuracy: 0.8058\n",
            "Epoch 83/100\n",
            "90/90 - 10s - 115ms/step - loss: 9.7567e-04 - sparse_categorical_accuracy: 1.0000 - val_loss: 0.7526 - val_sparse_categorical_accuracy: 0.8128\n",
            "Epoch 84/100\n",
            "90/90 - 10s - 114ms/step - loss: 9.4321e-04 - sparse_categorical_accuracy: 1.0000 - val_loss: 0.7648 - val_sparse_categorical_accuracy: 0.8141\n",
            "Epoch 85/100\n",
            "90/90 - 6s - 65ms/step - loss: 8.7513e-04 - sparse_categorical_accuracy: 1.0000 - val_loss: 0.7695 - val_sparse_categorical_accuracy: 0.8058\n",
            "Epoch 86/100\n",
            "90/90 - 6s - 66ms/step - loss: 8.2495e-04 - sparse_categorical_accuracy: 1.0000 - val_loss: 0.7716 - val_sparse_categorical_accuracy: 0.8100\n",
            "Epoch 87/100\n",
            "90/90 - 6s - 67ms/step - loss: 7.7408e-04 - sparse_categorical_accuracy: 1.0000 - val_loss: 0.7722 - val_sparse_categorical_accuracy: 0.8114\n",
            "Epoch 88/100\n",
            "90/90 - 6s - 64ms/step - loss: 7.3681e-04 - sparse_categorical_accuracy: 1.0000 - val_loss: 0.7757 - val_sparse_categorical_accuracy: 0.8128\n",
            "Epoch 89/100\n",
            "90/90 - 10s - 114ms/step - loss: 6.8955e-04 - sparse_categorical_accuracy: 1.0000 - val_loss: 0.7812 - val_sparse_categorical_accuracy: 0.8141\n",
            "Epoch 90/100\n",
            "90/90 - 10s - 113ms/step - loss: 6.4631e-04 - sparse_categorical_accuracy: 1.0000 - val_loss: 0.8006 - val_sparse_categorical_accuracy: 0.8058\n",
            "Epoch 91/100\n",
            "90/90 - 10s - 115ms/step - loss: 6.1770e-04 - sparse_categorical_accuracy: 1.0000 - val_loss: 0.8017 - val_sparse_categorical_accuracy: 0.8017\n",
            "Epoch 92/100\n",
            "90/90 - 6s - 67ms/step - loss: 5.8814e-04 - sparse_categorical_accuracy: 1.0000 - val_loss: 0.7976 - val_sparse_categorical_accuracy: 0.8155\n",
            "Epoch 93/100\n",
            "90/90 - 10s - 112ms/step - loss: 5.6471e-04 - sparse_categorical_accuracy: 1.0000 - val_loss: 0.8223 - val_sparse_categorical_accuracy: 0.8086\n",
            "Epoch 94/100\n",
            "90/90 - 10s - 116ms/step - loss: 5.2252e-04 - sparse_categorical_accuracy: 1.0000 - val_loss: 0.8170 - val_sparse_categorical_accuracy: 0.8100\n",
            "Epoch 95/100\n",
            "90/90 - 6s - 64ms/step - loss: 4.8276e-04 - sparse_categorical_accuracy: 1.0000 - val_loss: 0.8329 - val_sparse_categorical_accuracy: 0.8058\n",
            "Epoch 96/100\n",
            "90/90 - 10s - 116ms/step - loss: 4.5575e-04 - sparse_categorical_accuracy: 1.0000 - val_loss: 0.8278 - val_sparse_categorical_accuracy: 0.8128\n",
            "Epoch 97/100\n",
            "90/90 - 6s - 64ms/step - loss: 4.4086e-04 - sparse_categorical_accuracy: 1.0000 - val_loss: 0.8387 - val_sparse_categorical_accuracy: 0.8072\n",
            "Epoch 98/100\n",
            "90/90 - 6s - 65ms/step - loss: 4.1100e-04 - sparse_categorical_accuracy: 1.0000 - val_loss: 0.8349 - val_sparse_categorical_accuracy: 0.8100\n",
            "Epoch 99/100\n",
            "90/90 - 10s - 114ms/step - loss: 3.8501e-04 - sparse_categorical_accuracy: 1.0000 - val_loss: 0.8449 - val_sparse_categorical_accuracy: 0.8086\n",
            "Epoch 100/100\n",
            "90/90 - 6s - 64ms/step - loss: 3.6672e-04 - sparse_categorical_accuracy: 1.0000 - val_loss: 0.8458 - val_sparse_categorical_accuracy: 0.8058\n"
          ]
        },
        {
          "output_type": "execute_result",
          "data": {
            "text/plain": [
              "<keras.src.callbacks.history.History at 0x7d5e9ebc82e0>"
            ]
          },
          "metadata": {},
          "execution_count": 30
        }
      ]
    }
  ]
}